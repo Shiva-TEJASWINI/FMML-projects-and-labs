{
  "nbformat": 4,
  "nbformat_minor": 0,
  "metadata": {
    "colab": {
      "provenance": [],
      "toc_visible": true,
      "authorship_tag": "ABX9TyPN06qTroDDVr7e/23yH1li",
      "include_colab_link": true
    },
    "kernelspec": {
      "name": "python3",
      "display_name": "Python 3"
    },
    "language_info": {
      "name": "python"
    }
  },
  "cells": [
    {
      "cell_type": "markdown",
      "metadata": {
        "id": "view-in-github",
        "colab_type": "text"
      },
      "source": [
        "<a href=\"https://colab.research.google.com/github/Shiva-TEJASWINI/FMML-projects-and-labs/blob/main/aiml_numpy_linear_algebra.ipynb\" target=\"_parent\"><img src=\"https://colab.research.google.com/assets/colab-badge.svg\" alt=\"Open In Colab\"/></a>"
      ]
    },
    {
      "cell_type": "code",
      "execution_count": null,
      "metadata": {
        "id": "Yt_bTBO2xl5e"
      },
      "outputs": [],
      "source": []
    },
    {
      "cell_type": "markdown",
      "source": [],
      "metadata": {
        "id": "Hz83IWBdxpYV"
      }
    },
    {
      "cell_type": "markdown",
      "source": [
        "# det rank"
      ],
      "metadata": {
        "id": "Yn8G_pAL4TFH"
      }
    },
    {
      "cell_type": "code",
      "source": [
        "import numpy as np\n",
        "\n",
        "A = np.array([[6, 1, 1],\n",
        "               [4, -2, 5],\n",
        "                             [2, 8, 7]])\n",
        "\n",
        "                              # Rank of a matrix\n",
        "print(\"Rank of A:\", np.linalg.matrix_rank(A))\n",
        "\n",
        "                               # Trace of matrix A\n",
        "print(\"\\nTrace of A:\", np.trace(A))\n",
        "\n",
        "                                # Determinant of a matrix\n",
        "print(\"\\nDeterminant of A:\", np.linalg.det(A))\n",
        "\n",
        "                                 # Inverse of matrix A\n",
        "\n",
        "print(\"\\nInverse of A:\\n\", np.linalg.inv(A))\n",
        "\n",
        "print(\"\\nMatrix A raised to power 3:\\n\",np.linalg.matrix_power(A, 3))"
      ],
      "metadata": {
        "colab": {
          "base_uri": "https://localhost:8080/"
        },
        "id": "pDiBNGAG34fZ",
        "outputId": "1226bd47-8f19-414c-9eeb-8ced07d50f20"
      },
      "execution_count": null,
      "outputs": [
        {
          "output_type": "stream",
          "name": "stdout",
          "text": [
            "Rank of A: 3\n",
            "\n",
            "Trace of A: 11\n",
            "\n",
            "Determinant of A: -306.0\n",
            "\n",
            "Inverse of A:\n",
            " [[ 0.17647059 -0.00326797 -0.02287582]\n",
            " [ 0.05882353 -0.13071895  0.08496732]\n",
            " [-0.11764706  0.1503268   0.05228758]]\n",
            "\n",
            "Matrix A raised to power 3:\n",
            " [[336 162 228]\n",
            " [406 162 469]\n",
            " [698 702 905]]\n"
          ]
        }
      ]
    },
    {
      "cell_type": "markdown",
      "source": [
        "# eig values"
      ],
      "metadata": {
        "id": "SDXvivaM4U6_"
      }
    },
    {
      "cell_type": "code",
      "source": [
        "# eig() function\n",
        "\n",
        "from numpy import linalg as geek\n",
        "\n",
        "  # Creating an array using diag\n",
        "  # function\n",
        "a = np.diag((1, 2, 3))\n",
        "\n",
        "print(\"Array is :\",a)\n",
        "\n",
        "    # calculating an eigen value\n",
        "    # using eig() function\n",
        "c, d = geek.eig(a)\n",
        "\n",
        "print(\"Eigen value is :\",c)\n",
        "print(\"Eigen value is :\",d)"
      ],
      "metadata": {
        "colab": {
          "base_uri": "https://localhost:8080/"
        },
        "id": "K4TdiPRT4Hte",
        "outputId": "6c9dbf6a-063e-4a52-9283-3d0fcbd28116"
      },
      "execution_count": null,
      "outputs": [
        {
          "output_type": "stream",
          "name": "stdout",
          "text": [
            "Array is : [[1 0 0]\n",
            " [0 2 0]\n",
            " [0 0 3]]\n",
            "Eigen value is : [1. 2. 3.]\n",
            "Eigen value is : [[1. 0. 0.]\n",
            " [0. 1. 0.]\n",
            " [0. 0. 1.]]\n"
          ]
        }
      ]
    }
  ]
}